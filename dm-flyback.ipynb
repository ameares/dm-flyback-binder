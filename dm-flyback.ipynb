{
 "cells": [
  {
   "cell_type": "code",
   "execution_count": 1,
   "metadata": {},
   "outputs": [
    {
     "name": "stdout",
     "output_type": "stream",
     "text": [
      "Hello World\n"
     ]
    }
   ],
   "source": [
    "# Constants\n",
    "V_in = 21  # Input voltage in Volts\n",
    "P_out = 2  # Output power in Watts\n",
    "D_max = 0.40  # Maximum duty cycle (as a fraction)\n",
    "efficiency_goal = 0.75  # Efficiency goal as a fraction\n",
    "\n",
    "# Calculations\n",
    "P_in = P_out / efficiency_goal  # Input power in Watts\n",
    "I_avg = P_in / V_in  # Average current in Amperes\n",
    "I_pk = 2 * (I_avg / D_max)  # Peak current in Amperes\n",
    "\n",
    "# Convert results to desired units (mA for currents)\n",
    "I_avg_mA = I_avg * 1000  # Convert to milliamps\n",
    "I_pk_mA = I_pk * 1000  # Convert to milliamps\n",
    "\n",
    "# Output results\n",
    "print(\"Design I\")\n",
    "print(f\"Input Power (P_in): {P_in:.2f} W\")\n",
    "print(f\"Average Current (I_avg): {I_avg_mA:.0f} mA\")\n",
    "print(f\"Peak Current (I_pk): {I_pk_mA:.0f} mA\")\n"
   ]
  }
 ],
 "metadata": {
  "kernelspec": {
   "display_name": ".venv",
   "language": "python",
   "name": "python3"
  },
  "language_info": {
   "codemirror_mode": {
    "name": "ipython",
    "version": 3
   },
   "file_extension": ".py",
   "mimetype": "text/x-python",
   "name": "python",
   "nbconvert_exporter": "python",
   "pygments_lexer": "ipython3",
   "version": "3.10.12"
  }
 },
 "nbformat": 4,
 "nbformat_minor": 2
}
