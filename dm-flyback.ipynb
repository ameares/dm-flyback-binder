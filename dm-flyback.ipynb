{
 "cells": [
  {
   "cell_type": "code",
   "execution_count": 38,
   "metadata": {},
   "outputs": [
    {
     "name": "stdout",
     "output_type": "stream",
     "text": [
      "Design I\n",
      "Input Power (P_in): 2.67 W\n",
      "Average Current (I_avg): 127 mA\n",
      "Peak Current (I_pk): 635 mA\n"
     ]
    }
   ],
   "source": [
    "# Constants\n",
    "V_in = 21  # Input voltage in Volts\n",
    "P_out = 2  # Output power in Watts\n",
    "D_max = 0.40  # Maximum duty cycle (as a fraction)\n",
    "efficiency_goal = 0.75  # Efficiency goal as a fraction\n",
    "\n",
    "# Calculations\n",
    "P_in = P_out / efficiency_goal  # Input power in Watts\n",
    "I_avg = P_in / V_in  # Average current in Amperes\n",
    "I_pk = 2 * (I_avg / D_max)  # Peak current in Amperes\n",
    "\n",
    "# Convert results to desired units (mA for currents)\n",
    "I_avg_mA = I_avg * 1000  # Convert to milliamps\n",
    "I_pk_mA = I_pk * 1000  # Convert to milliamps\n",
    "\n",
    "# Output results\n",
    "print(\"Design I\")\n",
    "print(f\"Input Power (P_in): {P_in:.2f} W\")\n",
    "print(f\"Average Current (I_avg): {I_avg_mA:.0f} mA\")\n",
    "print(f\"Peak Current (I_pk): {I_pk_mA:.0f} mA\")\n"
   ]
  },
  {
   "cell_type": "code",
   "execution_count": 39,
   "metadata": {},
   "outputs": [
    {
     "name": "stdout",
     "output_type": "stream",
     "text": [
      "Inductance (L): 82.69 µH\n"
     ]
    }
   ],
   "source": [
    "f_sw = 160e3  # Switching frequency in Hz (160 kHz)\n",
    "\n",
    "# Inductance calculation\n",
    "L = (2 * P_in) / (I_pk**2 * f_sw)  # Inductance in Henries\n",
    "\n",
    "# Convert to microhenries (µH)\n",
    "L_uH = L * 1e6\n",
    "\n",
    "# Output the result\n",
    "print(f\"Inductance (L): {L_uH:.2f} µH\")"
   ]
  },
  {
   "cell_type": "code",
   "execution_count": 40,
   "metadata": {},
   "outputs": [
    {
     "name": "stdout",
     "output_type": "stream",
     "text": [
      "Required gap volume, A_e * L_g: 1.29 mm³\n",
      "Revised Air Gap Length (L_g): 0.10 mm\n"
     ]
    }
   ],
   "source": [
    "import math\n",
    "\n",
    "mu_r = 1  # Relative permeability\n",
    "mu_0 = 4 * math.pi * 1e-7  # Permeability of free space in H/m\n",
    "B_pk = 180e-3  # Peak magnetic flux density in Tesla (180 mT)\n",
    "\n",
    "# Effective area from datasheet\n",
    "A_effective_original = (3.7)**2  # mm^2\n",
    "A_effective_revised = 12.4  # in mm^2 from core's datasheet\n",
    "\n",
    "# Calculate required gap volume, A_e * L_g\n",
    "# This is in m^3\n",
    "Ae_Lg = (L * I_pk**2 * mu_r * mu_0) / (B_pk**2)\n",
    "\n",
    "# Convert to mm^3\n",
    "Ae_Lg_mm3 = Ae_Lg * 1e9  # Convert to mm^3\n",
    "\n",
    "# Calculate L_g using revised A_effective\n",
    "Lg = Ae_Lg / (A_effective_revised*1e-6)  # in meters\n",
    "\n",
    "Lg_mm3 = Lg * 1e3  # Convert to mm\n",
    "\n",
    "# Output results\n",
    "#print(f\"Original Effective Area (A_e): {A_effective_original:.1f} mm²\")\n",
    "print(f\"Required gap volume, A_e * L_g: {Ae_Lg_mm3:.2f} mm³\")\n",
    "print(f\"Revised Air Gap Length (L_g): {Lg_mm3:.2f} mm\")"
   ]
  }
 ],
 "metadata": {
  "kernelspec": {
   "display_name": ".venv",
   "language": "python",
   "name": "python3"
  },
  "language_info": {
   "codemirror_mode": {
    "name": "ipython",
    "version": 3
   },
   "file_extension": ".py",
   "mimetype": "text/x-python",
   "name": "python",
   "nbconvert_exporter": "python",
   "pygments_lexer": "ipython3",
   "version": "3.10.12"
  }
 },
 "nbformat": 4,
 "nbformat_minor": 2
}
